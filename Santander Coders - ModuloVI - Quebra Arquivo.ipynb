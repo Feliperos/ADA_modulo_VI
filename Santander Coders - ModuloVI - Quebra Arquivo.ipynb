{
 "cells": [
  {
   "cell_type": "code",
   "execution_count": null,
   "metadata": {},
   "outputs": [],
   "source": [
    "import pandas as pd"
   ]
  },
  {
   "cell_type": "code",
   "execution_count": null,
   "metadata": {},
   "outputs": [],
   "source": [
    "df = pd.read_csv(r\"C:\\...\\temas_ambientais.csv\", delimiter=';')"
   ]
  },
  {
   "cell_type": "code",
   "execution_count": null,
   "metadata": {},
   "outputs": [],
   "source": [
    "df.head(10)"
   ]
  },
  {
   "cell_type": "code",
   "execution_count": null,
   "metadata": {},
   "outputs": [],
   "source": [
    "df.shape"
   ]
  },
  {
   "cell_type": "code",
   "execution_count": null,
   "metadata": {},
   "outputs": [],
   "source": [
    "import pandas as pd\n",
    "import os\n",
    "\n",
    "# Caminho para arquivo CSV original\n",
    "caminho_arquivo_grande = r\"C:\\...\\temas_ambientais.csv\"\n",
    "\n",
    "# Tamanho máximo desejado para cada arquivo (em MB)\n",
    "tamanho_maximo_arquivo_MB = 2\n",
    "\n",
    "# Calcula o tamanho máximo em bytes\n",
    "tamanho_max_bytes = tamanho_maximo_arquivo_MB * 1024 * 1024  # Convertendo MB para bytes\n",
    "\n",
    "# Lê o arquivo original para contar o número de linhas\n",
    "with open(caminho_arquivo_grande, 'r', encoding='utf-8') as file:\n",
    "    numero_linhas = sum(1 for _ in file)\n",
    "\n",
    "# Calcula o número de divisões necessárias\n",
    "# Inicialmente o arquivo ficou um pouco grande, em torno de 6 MB, por isso o número de divisões foi multiplicado\n",
    "# por 4 para reduzir o tamanho do arquivo por 4.\n",
    "num_divisoes = int(-(-numero_linhas // (tamanho_max_bytes / 100)))*4  # Deve ser um número inteiro\n",
    "\n",
    "# Divide o arquivo em partes\n",
    "diretorio_saida = r\"C:\\datalake\\raw\\modVI\"\n",
    "os.makedirs(diretorio_saida, exist_ok=True)\n",
    "\n",
    "# Le o arquivo e vai criando as particoes de acordo com o número total de linhas do arquivo\n",
    "with open(caminho_arquivo_grande, 'r', encoding='utf-8') as file:\n",
    "    for i in range(num_divisoes):\n",
    "        nome_arquivo_saida = f'{diretorio_saida}\\parte_{i + 1}.csv'\n",
    "        with open(nome_arquivo_saida, 'w', encoding='utf-8') as out_file:\n",
    "            for _ in range(numero_linhas // num_divisoes):\n",
    "                out_file.write(file.readline())\n",
    "            if i == num_divisoes - 1:  # Para a última parte, copie o restante do arquivo\n",
    "                for line in file:\n",
    "                    out_file.write(line)\n",
    "            else:\n",
    "                out_file.write(file.readline())  # Quebra de linha entre arquivos\n",
    "\n",
    "        print(f'Parte {i + 1} salva em {nome_arquivo_saida}')\n",
    "\n",
    "print(\"Processo de divisão concluído.\")\n"
   ]
  }
 ],
 "metadata": {
  "kernelspec": {
   "display_name": "base",
   "language": "python",
   "name": "python3"
  },
  "language_info": {
   "codemirror_mode": {
    "name": "ipython",
    "version": 3
   },
   "file_extension": ".py",
   "mimetype": "text/x-python",
   "name": "python",
   "nbconvert_exporter": "python",
   "pygments_lexer": "ipython3",
   "version": "3.10.9"
  }
 },
 "nbformat": 4,
 "nbformat_minor": 2
}
